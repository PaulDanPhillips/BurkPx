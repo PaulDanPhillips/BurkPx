{
 "cells": [
  {
   "cell_type": "code",
   "execution_count": 1,
   "metadata": {},
   "outputs": [],
   "source": [
    "import os\n",
    "import pandas as pd\n",
    "import numpy as np\n",
    "from xgboost import XGBClassifier\n",
    "from sklearn.linear_model import LogisticRegression\n",
    "from sklearn.metrics import roc_auc_score\n",
    "from sklearn.metrics import balanced_accuracy_score"
   ]
  },
  {
   "attachments": {},
   "cell_type": "markdown",
   "metadata": {},
   "source": [
    "## Coef analysis on data from tuning\n",
    "## Week 1\n",
    "### Enet"
   ]
  },
  {
   "cell_type": "code",
   "execution_count": 2,
   "metadata": {},
   "outputs": [],
   "source": [
    "df = pd.read_csv('../Week1_IgGM_PosNeg_grouped.txt', sep='\\t', index_col=0)\n",
    "df.dropna(inplace=True)\n",
    "Y = df.Status.copy()\n",
    "X = df.iloc[:,7:].copy()\n",
    "\n",
    "if not os.path.isdir(\"Tables\"):\n",
    "    os.makedirs(\"Tables\")\n",
    "os.chdir(\"Tables\")\n",
    "\n",
    "enet= LogisticRegression(penalty = 'elasticnet', C=100, l1_ratio=0.9, solver = 'saga', max_iter=int(1e6)).fit(X,Y)\n",
    "\n",
    "EnetCOEFS = pd.DataFrame(np.transpose(enet.coef_), X.columns, columns=['Week1_Coefficients']).sort_values('Week1_Coefficients', ascending=False)"
   ]
  },
  {
   "attachments": {},
   "cell_type": "markdown",
   "metadata": {},
   "source": [
    "### Logit"
   ]
  },
  {
   "cell_type": "code",
   "execution_count": 3,
   "metadata": {},
   "outputs": [],
   "source": [
    "LassoSTRONG= LogisticRegression(penalty = 'l1', C=0.01291549665014884,solver = 'saga', max_iter=int(1e6)).fit(X,Y)\n",
    "\n",
    "LassoSTRONG_coefs = pd.DataFrame(np.transpose(LassoSTRONG.coef_), X.columns, columns=['Week1_Coefficients']).sort_values('Week1_Coefficients', ascending=False)\n",
    "\n",
    "LassoWEAK= LogisticRegression(penalty = 'l1', C=100,solver = 'saga', max_iter=int(1e6)).fit(X,Y)\n",
    "\n",
    "LassoWEAK_coefs = pd.DataFrame(np.transpose(LassoWEAK.coef_), X.columns, columns=['Week1_Coefficients']).sort_values('Week1_Coefficients', ascending=False)\n",
    "\n",
    "\n",
    "RidgeSTRONG= LogisticRegression(penalty = 'l2', C=0.01291549665014884,solver = 'saga', max_iter=int(1e6)).fit(X,Y)\n",
    "\n",
    "RidgeSTRONG_coefs = pd.DataFrame(np.transpose(RidgeSTRONG.coef_), X.columns, columns=['Week1_Coefficients']).sort_values('Week1_Coefficients', ascending=False)\n",
    "\n",
    "RidgeWEAK= LogisticRegression(penalty = 'l2', C=100,solver = 'saga', max_iter=int(1e6)).fit(X,Y)\n",
    "\n",
    "RidgeWEAK_coefs = pd.DataFrame(np.transpose(RidgeWEAK.coef_), X.columns, columns=['Week1_Coefficients']).sort_values('Week1_Coefficients', ascending=False)\n"
   ]
  },
  {
   "cell_type": "code",
   "execution_count": 4,
   "metadata": {},
   "outputs": [],
   "source": [
    "with pd.ExcelWriter(\"Week1_Coeffs.xlsx\") as writer:\n",
    "    EnetCOEFS.to_excel(writer, sheet_name=\"Week1_Enet\", index=True)\n",
    "    LassoSTRONG_coefs.to_excel(writer, sheet_name=\"Week1_LassoStrong\", index=True)\n",
    "    LassoWEAK_coefs.to_excel(writer, sheet_name=\"Week1_LassoWeak\", index=True)\n",
    "    RidgeSTRONG_coefs.to_excel(writer, sheet_name=\"Week1_RidgeStrong\", index=True)\n",
    "    RidgeWEAK_coefs.to_excel(writer, sheet_name=\"Week1_RidgeWeak\", index=True)\n"
   ]
  },
  {
   "attachments": {},
   "cell_type": "markdown",
   "metadata": {},
   "source": [
    "### XGB"
   ]
  },
  {
   "attachments": {},
   "cell_type": "markdown",
   "metadata": {},
   "source": [
    "## Week 1 Score and coefs from Validation set"
   ]
  },
  {
   "cell_type": "code",
   "execution_count": 5,
   "metadata": {},
   "outputs": [],
   "source": [
    "# df = pd.read_csv('../../ValidationSet/ValidationSet.txt', sep='\\t', index_col=0)\n",
    "# df = df.loc[(df['TimeGroup']=='Week1')|(df['TimeGroup']=='Healthy')]\n",
    "# Xval = df.iloc[:,7:].copy()\n",
    "# Yval = df.Status.copy()\n",
    "# print(Yval.value_counts())"
   ]
  },
  {
   "cell_type": "code",
   "execution_count": 6,
   "metadata": {},
   "outputs": [],
   "source": [
    "# print(\"ENET: BA score\", balanced_accuracy_score(Yval, enet.predict(Xval)))\n",
    "# print('LassoSTRONG: BA score', balanced_accuracy_score(Yval, LassoSTRONG.predict(Xval)))\n",
    "# print(\"LassoWEAK: BA score\", balanced_accuracy_score(Yval, LassoWEAK.predict(Xval)))\n",
    "# print(\"RidgeSTRONG: BA score\", balanced_accuracy_score(Yval, RidgeSTRONG.predict(Xval)))\n",
    "# print(\"RidgeWEAK: BA score\", balanced_accuracy_score(Yval, RidgeWEAK.predict(Xval)))"
   ]
  },
  {
   "attachments": {},
   "cell_type": "markdown",
   "metadata": {},
   "source": [
    "### XGB"
   ]
  },
  {
   "attachments": {},
   "cell_type": "markdown",
   "metadata": {},
   "source": [
    "## Coef analysis on data from tuning\n",
    "## Week 2\n",
    "### Enet"
   ]
  },
  {
   "cell_type": "code",
   "execution_count": 7,
   "metadata": {},
   "outputs": [],
   "source": [
    "df = pd.read_csv('../../Week2_IgGM_PosNeg_grouped.txt', sep='\\t', index_col=0)\n",
    "df.dropna(inplace=True)\n",
    "Y = df.Status.copy()\n",
    "X = df.iloc[:,7:].copy()\n",
    "\n",
    "\n",
    "# os.chdir(\"Tables\")\n",
    "\n",
    "enet= LogisticRegression(penalty = 'elasticnet', C=100, l1_ratio=0.9, solver = 'saga', max_iter=int(1e6)).fit(X,Y)\n",
    "\n",
    "EnetCOEFS = pd.DataFrame(np.transpose(enet.coef_), X.columns, columns=['Week2_Coefficients']).sort_values('Week2_Coefficients', ascending=False)"
   ]
  },
  {
   "attachments": {},
   "cell_type": "markdown",
   "metadata": {},
   "source": [
    "### Logit"
   ]
  },
  {
   "cell_type": "code",
   "execution_count": 8,
   "metadata": {},
   "outputs": [],
   "source": [
    "LassoSTRONG= LogisticRegression(penalty = 'l1', C=0.01291549665014884,solver = 'saga', max_iter=int(1e6)).fit(X,Y)\n",
    "\n",
    "LassoSTRONG_coefs = pd.DataFrame(np.transpose(LassoSTRONG.coef_), X.columns, columns=['Week2_Coefficients']).sort_values('Week2_Coefficients', ascending=False)\n",
    "\n",
    "LassoWEAK= LogisticRegression(penalty = 'l1', C=100,solver = 'saga', max_iter=int(1e6)).fit(X,Y)\n",
    "\n",
    "LassoWEAK_coefs = pd.DataFrame(np.transpose(LassoWEAK.coef_), X.columns, columns=['Week2_Coefficients']).sort_values('Week2_Coefficients', ascending=False)\n",
    "\n",
    "RidgeSTRONG= LogisticRegression(penalty = 'l2', C=0.01291549665014884,solver = 'saga', max_iter=int(1e6)).fit(X,Y)\n",
    "\n",
    "RidgeSTRONG_coefs = pd.DataFrame(np.transpose(RidgeSTRONG.coef_), X.columns, columns=['Week2_Coefficients']).sort_values('Week2_Coefficients', ascending=False)\n",
    "\n",
    "RidgeWEAK= LogisticRegression(penalty = 'l2', C=100,solver = 'saga', max_iter=int(1e6)).fit(X,Y)\n",
    "\n",
    "RidgeWEAK_coefs = pd.DataFrame(np.transpose(RidgeWEAK.coef_), X.columns, columns=['Week2_Coefficients']).sort_values('Week2_Coefficients', ascending=False)\n"
   ]
  },
  {
   "cell_type": "code",
   "execution_count": 9,
   "metadata": {},
   "outputs": [],
   "source": [
    "with pd.ExcelWriter(\"Week2_Coeffs.xlsx\") as writer:\n",
    "    EnetCOEFS.to_excel(writer, sheet_name=\"Week2_Enet\", index=True)\n",
    "    LassoSTRONG_coefs.to_excel(writer, sheet_name=\"Week2_LassoStrong\", index=True)\n",
    "    LassoWEAK_coefs.to_excel(writer, sheet_name=\"Week2_LassoWeak\", index=True)\n",
    "    RidgeSTRONG_coefs.to_excel(writer, sheet_name=\"Week2_RidgeStrong\", index=True)\n",
    "    RidgeWEAK_coefs.to_excel(writer, sheet_name=\"Week2_RidgeWeak\", index=True)"
   ]
  },
  {
   "attachments": {},
   "cell_type": "markdown",
   "metadata": {},
   "source": [
    "## Week 2 Score and coefs from Validation set"
   ]
  },
  {
   "cell_type": "code",
   "execution_count": 10,
   "metadata": {},
   "outputs": [],
   "source": [
    "# df = pd.read_csv('../../ValidationSet/ValidationSet.txt', sep='\\t', index_col=0)\n",
    "# df = df.loc[(df['TimeGroup']=='Week2')|(df['TimeGroup']=='Healthy')]\n",
    "# Xval = df.iloc[:,7:].copy()\n",
    "# Yval = df.Status.copy()\n",
    "# print(Yval.value_counts())"
   ]
  },
  {
   "cell_type": "code",
   "execution_count": 11,
   "metadata": {},
   "outputs": [],
   "source": [
    "# print(\"ENET: BA score\", balanced_accuracy_score(Yval, enet.predict(Xval)))\n",
    "# print('LassoSTRONG: BA score', balanced_accuracy_score(Yval, LassoSTRONG.predict(Xval)))\n",
    "# print(\"LassoWEAK: BA score\", balanced_accuracy_score(Yval, LassoWEAK.predict(Xval)))\n",
    "# print(\"RidgeSTRONG: BA score\", balanced_accuracy_score(Yval, RidgeSTRONG.predict(Xval)))\n",
    "# print(\"RidgeWEAK: BA score\", balanced_accuracy_score(Yval, RidgeWEAK.predict(Xval)))"
   ]
  },
  {
   "attachments": {},
   "cell_type": "markdown",
   "metadata": {},
   "source": [
    "## Coef analysis on data from tuning\n",
    "## Week 3\n",
    "### Enet"
   ]
  },
  {
   "cell_type": "code",
   "execution_count": 12,
   "metadata": {},
   "outputs": [],
   "source": [
    "df = pd.read_csv('../../Week3_IgGM_PosNeg_grouped.txt', sep='\\t', index_col=0)\n",
    "df.dropna(inplace=True)\n",
    "Y = df.Status.copy()\n",
    "X = df.iloc[:,7:].copy()\n",
    "\n",
    "enet= LogisticRegression(penalty = 'elasticnet', C=100, l1_ratio=0.9, solver = 'saga', max_iter=int(1e6)).fit(X,Y)\n",
    "EnetCOEFS = pd.DataFrame(np.transpose(enet.coef_), X.columns, columns=['Week3_Coefficients']).sort_values('Week3_Coefficients', ascending=False)"
   ]
  },
  {
   "attachments": {},
   "cell_type": "markdown",
   "metadata": {},
   "source": [
    "### Logit"
   ]
  },
  {
   "cell_type": "code",
   "execution_count": 13,
   "metadata": {},
   "outputs": [],
   "source": [
    "LassoSTRONG= LogisticRegression(penalty = 'l1', C=0.01291549665014884,solver = 'saga', max_iter=int(1e6)).fit(X,Y)\n",
    "\n",
    "LassoSTRONG_coefs = pd.DataFrame(np.transpose(LassoSTRONG.coef_), X.columns, columns=['Week3_Coefficients']).sort_values('Week3_Coefficients', ascending=False)\n",
    "\n",
    "LassoWEAK= LogisticRegression(penalty = 'l1', C=100,solver = 'saga', max_iter=int(1e6)).fit(X,Y)\n",
    "\n",
    "LassoWEAK_coefs = pd.DataFrame(np.transpose(LassoWEAK.coef_), X.columns, columns=['Week3_Coefficients']).sort_values('Week3_Coefficients', ascending=False)\n",
    "\n",
    "RidgeSTRONG= LogisticRegression(penalty = 'l2', C=0.01291549665014884,solver = 'saga', max_iter=int(1e6)).fit(X,Y)\n",
    "\n",
    "RidgeSTRONG_coefs = pd.DataFrame(np.transpose(RidgeSTRONG.coef_), X.columns, columns=['Week3_Coefficients']).sort_values('Week3_Coefficients', ascending=False)\n",
    "\n",
    "RidgeWEAK= LogisticRegression(penalty = 'l2', C=100,solver = 'saga', max_iter=int(1e6)).fit(X,Y)\n",
    "\n",
    "RidgeWEAK_coefs = pd.DataFrame(np.transpose(RidgeWEAK.coef_), X.columns, columns=['Week3_Coefficients']).sort_values('Week3_Coefficients', ascending=False)\n"
   ]
  },
  {
   "cell_type": "code",
   "execution_count": 14,
   "metadata": {},
   "outputs": [],
   "source": [
    "with pd.ExcelWriter(\"Week3_Coeffs.xlsx\") as writer:\n",
    "    EnetCOEFS.to_excel(writer, sheet_name=\"Week3_Enet\", index=True)\n",
    "    LassoSTRONG_coefs.to_excel(writer, sheet_name=\"Week3_LassoStrong\", index=True)\n",
    "    LassoWEAK_coefs.to_excel(writer, sheet_name=\"Week3_LassoWeak\", index=True)\n",
    "    RidgeSTRONG_coefs.to_excel(writer, sheet_name=\"Week3_RidgeStrong\", index=True)\n",
    "    RidgeWEAK_coefs.to_excel(writer, sheet_name=\"Week3_RidgeWeak\", index=True)"
   ]
  },
  {
   "attachments": {},
   "cell_type": "markdown",
   "metadata": {},
   "source": [
    "## Week 3 Score and coefs from Validation set"
   ]
  },
  {
   "cell_type": "code",
   "execution_count": 15,
   "metadata": {},
   "outputs": [],
   "source": [
    "# df = pd.read_csv('../../ValidationSet/ValidationSet.txt', sep='\\t', index_col=0)\n",
    "# df = df.loc[(df['TimeGroup']=='Week3')|(df['TimeGroup']=='Healthy')]\n",
    "# Xval = df.iloc[:,7:].copy()\n",
    "# Yval = df.Status.copy()\n",
    "# print(Yval.value_counts())"
   ]
  },
  {
   "cell_type": "code",
   "execution_count": 16,
   "metadata": {},
   "outputs": [],
   "source": [
    "# print(\"ENET: BA score\", balanced_accuracy_score(Yval, enet.predict(Xval)))\n",
    "# print('LassoSTRONG: BA score', balanced_accuracy_score(Yval, LassoSTRONG.predict(Xval)))\n",
    "# print(\"LassoWEAK: BA score\", balanced_accuracy_score(Yval, LassoWEAK.predict(Xval)))\n",
    "# print(\"RidgeSTRONG: BA score\", balanced_accuracy_score(Yval, RidgeSTRONG.predict(Xval)))\n",
    "# print(\"RidgeWEAK: BA score\", balanced_accuracy_score(Yval, RidgeWEAK.predict(Xval)))"
   ]
  },
  {
   "attachments": {},
   "cell_type": "markdown",
   "metadata": {},
   "source": [
    "## Coef analysis on data from tuning\n",
    "## Week 4\n",
    "### Enet"
   ]
  },
  {
   "cell_type": "code",
   "execution_count": 17,
   "metadata": {},
   "outputs": [],
   "source": [
    "df = pd.read_csv('../../Week4_IgGM_PosNeg_grouped.txt', sep='\\t', index_col=0)\n",
    "df.dropna(inplace=True)\n",
    "Y = df.Status.copy()\n",
    "X = df.iloc[:,7:].copy()\n",
    "\n",
    "enet= LogisticRegression(penalty = 'elasticnet', C=100, l1_ratio=0.9, solver = 'saga', max_iter=int(1e6)).fit(X,Y)\n",
    "EnetCOEFS = pd.DataFrame(np.transpose(enet.coef_), X.columns, columns=['Week4_Coefficients']).sort_values('Week4_Coefficients', ascending=False)"
   ]
  },
  {
   "cell_type": "code",
   "execution_count": 18,
   "metadata": {},
   "outputs": [],
   "source": [
    "LassoSTRONG= LogisticRegression(penalty = 'l1', C=0.01291549665014884,solver = 'saga', max_iter=int(1e6)).fit(X,Y)\n",
    "\n",
    "LassoSTRONG_coefs = pd.DataFrame(np.transpose(LassoSTRONG.coef_), X.columns, columns=['Week4_Coefficients']).sort_values('Week4_Coefficients', ascending=False)\n",
    "\n",
    "LassoWEAK= LogisticRegression(penalty = 'l1', C=100,solver = 'saga', max_iter=int(1e6)).fit(X,Y)\n",
    "\n",
    "LassoWEAK_coefs = pd.DataFrame(np.transpose(LassoWEAK.coef_), X.columns, columns=['Week4_Coefficients']).sort_values('Week4_Coefficients', ascending=False)\n",
    "\n",
    "RidgeSTRONG= LogisticRegression(penalty = 'l2', C=0.01291549665014884,solver = 'saga', max_iter=int(1e6)).fit(X,Y)\n",
    "\n",
    "RidgeSTRONG_coefs = pd.DataFrame(np.transpose(RidgeSTRONG.coef_), X.columns, columns=['Week4_Coefficients']).sort_values('Week4_Coefficients', ascending=False)\n",
    "\n",
    "RidgeWEAK= LogisticRegression(penalty = 'l2', C=100,solver = 'saga', max_iter=int(1e6)).fit(X,Y)\n",
    "\n",
    "RidgeWEAK_coefs = pd.DataFrame(np.transpose(RidgeWEAK.coef_), X.columns, columns=['Week4_Coefficients']).sort_values('Week4_Coefficients', ascending=False)\n"
   ]
  },
  {
   "cell_type": "code",
   "execution_count": 19,
   "metadata": {},
   "outputs": [],
   "source": [
    "with pd.ExcelWriter(\"Week4_Coeffs.xlsx\") as writer:\n",
    "    EnetCOEFS.to_excel(writer, sheet_name=\"Week4_Enet\", index=True)\n",
    "    LassoSTRONG_coefs.to_excel(writer, sheet_name=\"Week4_LassoStrong\", index=True)\n",
    "    LassoWEAK_coefs.to_excel(writer, sheet_name=\"Week4_LassoWeak\", index=True)\n",
    "    RidgeSTRONG_coefs.to_excel(writer, sheet_name=\"Week4_RidgeStrong\", index=True)\n",
    "    RidgeWEAK_coefs.to_excel(writer, sheet_name=\"Week4_RidgeWeak\", index=True)"
   ]
  },
  {
   "attachments": {},
   "cell_type": "markdown",
   "metadata": {},
   "source": [
    "## Week 4 Score and coefs from Validation set"
   ]
  },
  {
   "cell_type": "code",
   "execution_count": 20,
   "metadata": {},
   "outputs": [],
   "source": [
    "# df = pd.read_csv('../../ValidationSet/ValidationSet.txt', sep='\\t', index_col=0)\n",
    "# df = df.loc[(df['TimeGroup']=='Week4+')|(df['TimeGroup']=='Healthy')]\n",
    "# Xval = df.iloc[:,7:].copy()\n",
    "# Yval = df.Status.copy()\n",
    "# print(Yval.value_counts())"
   ]
  },
  {
   "cell_type": "code",
   "execution_count": 21,
   "metadata": {},
   "outputs": [],
   "source": [
    "# print(\"ENET: BA score\", balanced_accuracy_score(Yval, enet.predict(Xval)))\n",
    "# print('LassoSTRONG: BA score', balanced_accuracy_score(Yval, LassoSTRONG.predict(Xval)))\n",
    "# print(\"LassoWEAK: BA score\", balanced_accuracy_score(Yval, LassoWEAK.predict(Xval)))\n",
    "# print(\"RidgeSTRONG: BA score\", balanced_accuracy_score(Yval, RidgeSTRONG.predict(Xval)))\n",
    "# print(\"RidgeWEAK: BA score\", balanced_accuracy_score(Yval, RidgeWEAK.predict(Xval)))"
   ]
  }
 ],
 "metadata": {
  "kernelspec": {
   "display_name": "BurkPx",
   "language": "python",
   "name": "python3"
  },
  "language_info": {
   "codemirror_mode": {
    "name": "ipython",
    "version": 3
   },
   "file_extension": ".py",
   "mimetype": "text/x-python",
   "name": "python",
   "nbconvert_exporter": "python",
   "pygments_lexer": "ipython3",
   "version": "3.9.16"
  },
  "orig_nbformat": 4,
  "vscode": {
   "interpreter": {
    "hash": "d9cf4abd829db67bd613b172b6a5aacbce0ad65f853b713fd5bab49069a3ec93"
   }
  }
 },
 "nbformat": 4,
 "nbformat_minor": 2
}

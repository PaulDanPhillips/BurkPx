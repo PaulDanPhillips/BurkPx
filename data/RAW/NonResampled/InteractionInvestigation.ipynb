{
 "cells": [
  {
   "cell_type": "code",
   "execution_count": 1,
   "metadata": {},
   "outputs": [],
   "source": [
    "import os\n",
    "import pandas as pd\n",
    "# from sklearn.preprocessing import PolynomialFeatures\n",
    "from sklearn import preprocessing as pp"
   ]
  },
  {
   "cell_type": "code",
   "execution_count": 2,
   "metadata": {},
   "outputs": [],
   "source": [
    "df1 = pd.read_csv('IgGM/Week1_IgGM_PosNeg_grouped.txt', sep='\\t', index_col=0)\n",
    "df2 = pd.read_csv('IgGM/Week2_IgGM_PosNeg_grouped.txt', sep='\\t', index_col=0)\n",
    "df3 = pd.read_csv('IgGM/Week3_IgGM_PosNeg_grouped.txt', sep='\\t', index_col=0)\n",
    "df4 = pd.read_csv('IgGM/Week4_IgGM_PosNeg_grouped.txt', sep='\\t', index_col=0)\n",
    "DFall = pd.concat([df1,df2,df3,df4])\n",
    "DFall.dropna(inplace=True)\n",
    "DFall.drop_duplicates(keep='first', inplace=True)"
   ]
  },
  {
   "cell_type": "code",
   "execution_count": 3,
   "metadata": {},
   "outputs": [],
   "source": [
    "# df = pd.read_csv('IgGM/Week3_IgGM_PosNeg_grouped.txt', sep='\\t', index_col=0)\n",
    "DFall.TimeGroup.replace('Healthy',0, inplace=True)\n",
    "DFall.TimeGroup.replace('Week1',1, inplace=True)\n",
    "DFall.TimeGroup.replace('Week2',2, inplace=True)\n",
    "DFall.TimeGroup.replace('Week3',3, inplace=True)\n",
    "DFall.TimeGroup.replace('Week4+',4, inplace=True)\n",
    "\n",
    "Y = DFall.Status.copy()\n",
    "# X = df.iloc[:,7:].copy()\n",
    "X = DFall.drop(['index','PatientID', 'SerumID', 'Status', 'Rep'], axis=1).copy().reset_index(drop=True)\n",
    "X = pd.get_dummies(X)\n",
    "\n",
    "poly = pp.PolynomialFeatures(interaction_only=True,include_bias = False)\n",
    "X2 = poly.fit_transform(X)"
   ]
  },
  {
   "cell_type": "code",
   "execution_count": 4,
   "metadata": {},
   "outputs": [],
   "source": [
    "if not os.path.isdir(\"Interaction\"):\n",
    "    os.makedirs(\"Interaction\")\n",
    "os.chdir(\"Interaction\")\n",
    "Xint = pd.DataFrame(X2, columns=poly.get_feature_names_out(X.columns))\n",
    "Xint.to_csv('Predictor_IgGMall_PosNeg_interact.txt', sep='\\t')\n",
    "Y.to_csv('Response.txt', sep='\\t')"
   ]
  },
  {
   "cell_type": "code",
   "execution_count": 5,
   "metadata": {},
   "outputs": [
    {
     "data": {
      "text/plain": [
       "Negative    1292\n",
       "Melioid     1272\n",
       "Name: Status, dtype: int64"
      ]
     },
     "execution_count": 5,
     "metadata": {},
     "output_type": "execute_result"
    }
   ],
   "source": [
    "Y.value_counts()"
   ]
  }
 ],
 "metadata": {
  "kernelspec": {
   "display_name": "BurkPx",
   "language": "python",
   "name": "python3"
  },
  "language_info": {
   "codemirror_mode": {
    "name": "ipython",
    "version": 3
   },
   "file_extension": ".py",
   "mimetype": "text/x-python",
   "name": "python",
   "nbconvert_exporter": "python",
   "pygments_lexer": "ipython3",
   "version": "3.9.16 (main, Mar  8 2023, 14:00:05) \n[GCC 11.2.0]"
  },
  "orig_nbformat": 4,
  "vscode": {
   "interpreter": {
    "hash": "d9cf4abd829db67bd613b172b6a5aacbce0ad65f853b713fd5bab49069a3ec93"
   }
  }
 },
 "nbformat": 4,
 "nbformat_minor": 2
}
